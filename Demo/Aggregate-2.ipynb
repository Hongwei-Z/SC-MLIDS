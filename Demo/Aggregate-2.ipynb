{
 "cells": [
  {
   "cell_type": "markdown",
   "id": "ef6e5aff929320e6",
   "metadata": {
    "collapsed": false
   },
   "source": "### Demonstration of Aggregate Prediction Algorithms (Weighted Score and Majority Voting) Using Different Classifiers"
  },
  {
   "cell_type": "code",
   "id": "initial_id",
   "metadata": {
    "collapsed": true,
    "jupyter": {
     "outputs_hidden": true
    },
    "ExecuteTime": {
     "end_time": "2025-05-04T04:16:28.981429Z",
     "start_time": "2025-05-04T04:16:27.456391Z"
    }
   },
   "source": [
    "import helper, algorithm\n",
    "from sklearn.ensemble import RandomForestClassifier\n",
    "from sklearn.linear_model import LogisticRegression\n",
    "from sklearn.ensemble import GradientBoostingClassifier\n",
    "from sklearn import svm\n",
    "import pandas as pd\n",
    "import joblib\n",
    "import time\n",
    "import warnings\n",
    "warnings.simplefilter('ignore')"
   ],
   "outputs": [],
   "execution_count": 1
  },
  {
   "metadata": {},
   "cell_type": "markdown",
   "source": "0. Train client and server models",
   "id": "9dfe5e5e0fb66627"
  },
  {
   "metadata": {
    "ExecuteTime": {
     "end_time": "2025-05-04T04:16:29.771407Z",
     "start_time": "2025-05-04T04:16:28.987479Z"
    }
   },
   "cell_type": "code",
   "source": [
    "# Temporarily switch the root directory to the upper level to avoid not finding the dataset files.\n",
    "import os\n",
    "original_dir = os.getcwd()\n",
    "os.chdir('..')\n",
    "\n",
    "X_train1, y_train1 = helper.load_sensor_train_set(1)\n",
    "X_train2, y_train2 = helper.load_sensor_train_set(2)\n",
    "X_train3, y_train3 = helper.load_sensor_train_set(3)\n",
    "X_train4, y_train4 = helper.load_network_train_set()\n",
    "sensor_test, network_test = helper.load_test_set()\n",
    "\n",
    "os.chdir(original_dir) # Switch back to the original directory"
   ],
   "id": "1d4dd001f0575449",
   "outputs": [],
   "execution_count": 2
  },
  {
   "cell_type": "code",
   "id": "b64a1c8843846d4f",
   "metadata": {
    "collapsed": false,
    "ExecuteTime": {
     "end_time": "2025-05-04T04:16:34.199739Z",
     "start_time": "2025-05-04T04:16:29.943246Z"
    }
   },
   "source": [
    "rf = RandomForestClassifier()\n",
    "rf.fit(X_train1, y_train1)\n",
    "\n",
    "rf_filename = './new_models/client_1.joblib'\n",
    "joblib.dump(rf, filename=rf_filename)"
   ],
   "outputs": [
    {
     "data": {
      "text/plain": [
       "['./new_models/client_1.joblib']"
      ]
     },
     "execution_count": 3,
     "metadata": {},
     "output_type": "execute_result"
    }
   ],
   "execution_count": 3
  },
  {
   "cell_type": "code",
   "id": "617a9928f053f38f",
   "metadata": {
    "collapsed": false,
    "ExecuteTime": {
     "end_time": "2025-05-04T04:16:34.246754Z",
     "start_time": "2025-05-04T04:16:34.217739Z"
    }
   },
   "source": [
    "lr = LogisticRegression()\n",
    "lr.fit(X_train2, y_train2)\n",
    "\n",
    "lr_filename = './new_models/client_2.joblib'\n",
    "joblib.dump(lr, filename=lr_filename)"
   ],
   "outputs": [
    {
     "data": {
      "text/plain": [
       "['./new_models/client_2.joblib']"
      ]
     },
     "execution_count": 4,
     "metadata": {},
     "output_type": "execute_result"
    }
   ],
   "execution_count": 4
  },
  {
   "cell_type": "code",
   "id": "65db57480c72400b",
   "metadata": {
    "collapsed": false,
    "ExecuteTime": {
     "end_time": "2025-05-04T04:16:37.323827Z",
     "start_time": "2025-05-04T04:16:34.264740Z"
    }
   },
   "source": [
    "gb = GradientBoostingClassifier()\n",
    "gb.fit(X_train3, y_train3)\n",
    "\n",
    "gb_filename = './new_models/client_3.joblib'\n",
    "joblib.dump(gb, filename=gb_filename)"
   ],
   "outputs": [
    {
     "data": {
      "text/plain": [
       "['./new_models/client_3.joblib']"
      ]
     },
     "execution_count": 5,
     "metadata": {},
     "output_type": "execute_result"
    }
   ],
   "execution_count": 5
  },
  {
   "cell_type": "code",
   "id": "4046cea4e5b7597c",
   "metadata": {
    "collapsed": false,
    "ExecuteTime": {
     "end_time": "2025-05-04T04:17:59.017897Z",
     "start_time": "2025-05-04T04:16:37.341801Z"
    }
   },
   "source": [
    "sv = svm.SVC()\n",
    "sv.fit(X_train4, y_train4)\n",
    "\n",
    "sv_filename = './new_models/server.joblib'\n",
    "joblib.dump(sv, filename=sv_filename)"
   ],
   "outputs": [
    {
     "data": {
      "text/plain": [
       "['./new_models/server.joblib']"
      ]
     },
     "execution_count": 6,
     "metadata": {},
     "output_type": "execute_result"
    }
   ],
   "execution_count": 6
  },
  {
   "cell_type": "markdown",
   "id": "880c954dc5c040e",
   "metadata": {
    "collapsed": false
   },
   "source": "1. Testing of each model and demonstration of model aggregate prediction algorithms"
  },
  {
   "cell_type": "code",
   "id": "43896ae5747d4967",
   "metadata": {
    "collapsed": false,
    "ExecuteTime": {
     "end_time": "2025-05-04T04:18:16.651699Z",
     "start_time": "2025-05-04T04:17:59.051112Z"
    }
   },
   "source": [
    "# Load the models\n",
    "sensor_models = [rf_filename, lr_filename, gb_filename]\n",
    "network_model = sv_filename\n",
    "\n",
    "# Test models \n",
    "models_predictions, models_metrics = algorithm.get_predictions_and_metrics(\n",
    "    local_models=sensor_models,\n",
    "    sensor_test=sensor_test,\n",
    "    global_model=network_model,\n",
    "    network_test=network_test,\n",
    "    roc=False\n",
    ")"
   ],
   "outputs": [
    {
     "name": "stdout",
     "output_type": "stream",
     "text": [
      "\n",
      "Client 1 Prediction Results:\n",
      "*******************\n",
      "Accuracy : 0.911647\n",
      "Precision: 0.911929\n",
      "Recall   : 0.911647\n",
      "F1 Score : 0.911759\n",
      "*******************\n",
      "\n",
      "\n",
      "Client 2 Prediction Results:\n",
      "*******************\n",
      "Accuracy : 0.617661\n",
      "Precision: 0.591625\n",
      "Recall   : 0.617661\n",
      "F1 Score : 0.533447\n",
      "*******************\n",
      "\n",
      "\n",
      "Client 3 Prediction Results:\n",
      "*******************\n",
      "Accuracy : 0.725896\n",
      "Precision: 0.725676\n",
      "Recall   : 0.725896\n",
      "F1 Score : 0.725784\n",
      "*******************\n",
      "\n",
      "\n",
      "Server Prediction Results:\n",
      "*******************\n",
      "Accuracy : 0.971000\n",
      "Precision: 0.970982\n",
      "Recall   : 0.971000\n",
      "F1 Score : 0.970987\n",
      "*******************\n",
      "\n"
     ]
    }
   ],
   "execution_count": 7
  },
  {
   "cell_type": "code",
   "id": "a7b64237f24e8309",
   "metadata": {
    "collapsed": false,
    "ExecuteTime": {
     "end_time": "2025-05-04T04:18:16.667708Z",
     "start_time": "2025-05-04T04:18:16.655471Z"
    }
   },
   "source": [
    "# Load network testing set, set the weights\n",
    "y_test = network_test.iloc[:, -1]\n",
    "model_weights = [0.2, 0.2, 0.2, 0.4]"
   ],
   "outputs": [],
   "execution_count": 8
  },
  {
   "cell_type": "code",
   "id": "76140c23d0568c66",
   "metadata": {
    "collapsed": false,
    "ExecuteTime": {
     "end_time": "2025-05-04T04:18:16.698399Z",
     "start_time": "2025-05-04T04:18:16.683851Z"
    }
   },
   "source": [
    "print(f\"Aggregate Prediction by Weighted Score:\")\n",
    "\n",
    "score = algorithm.aggregate_predict_by_score(\n",
    "    models_predictions=models_predictions,\n",
    "    models_metrics=models_metrics,\n",
    "    models_weights=model_weights)\n",
    "\n",
    "helper.get_metrics(y_test, score, printout=True)"
   ],
   "outputs": [
    {
     "name": "stdout",
     "output_type": "stream",
     "text": [
      "Aggregate Prediction by Weighted Score:\n",
      "*******************\n",
      "Accuracy : 0.953771\n",
      "Precision: 0.954912\n",
      "Recall   : 0.953771\n",
      "F1 Score : 0.953393\n",
      "*******************\n",
      "\n"
     ]
    },
    {
     "data": {
      "text/plain": [
       "(0.9537712895377128,\n",
       " 0.9549118136813081,\n",
       " 0.9537712895377128,\n",
       " 0.9533932867229846)"
      ]
     },
     "execution_count": 9,
     "metadata": {},
     "output_type": "execute_result"
    }
   ],
   "execution_count": 9
  },
  {
   "cell_type": "code",
   "id": "3ceea053fbad58cd",
   "metadata": {
    "collapsed": false,
    "ExecuteTime": {
     "end_time": "2025-05-04T04:18:16.761675Z",
     "start_time": "2025-05-04T04:18:16.722400Z"
    }
   },
   "source": [
    "print(f\"Aggregate Prediction by Majority Voting:\")\n",
    "\n",
    "vote = algorithm.aggregate_predict_by_vote(models_predictions=models_predictions)\n",
    "\n",
    "helper.get_metrics(y_test, vote, printout=True)"
   ],
   "outputs": [
    {
     "name": "stdout",
     "output_type": "stream",
     "text": [
      "Aggregate Prediction by Majority Voting:\n",
      "*******************\n",
      "Accuracy : 0.937329\n",
      "Precision: 0.943410\n",
      "Recall   : 0.937329\n",
      "F1 Score : 0.937893\n",
      "*******************\n",
      "\n"
     ]
    },
    {
     "data": {
      "text/plain": [
       "(0.937329499373295, 0.9434096937078937, 0.937329499373295, 0.937893072417127)"
      ]
     },
     "execution_count": 10,
     "metadata": {},
     "output_type": "execute_result"
    }
   ],
   "execution_count": 10
  },
  {
   "cell_type": "markdown",
   "id": "bbf48954502127e6",
   "metadata": {
    "collapsed": false
   },
   "source": "2. Simulation of intrusion detection"
  },
  {
   "cell_type": "code",
   "id": "70963b012cf31c19",
   "metadata": {
    "collapsed": false,
    "ExecuteTime": {
     "end_time": "2025-05-04T04:18:16.808178Z",
     "start_time": "2025-05-04T04:18:16.793179Z"
    }
   },
   "source": [
    "sensor_test['target'].value_counts()"
   ],
   "outputs": [
    {
     "data": {
      "text/plain": [
       "target\n",
       "0    24859\n",
       "1    15830\n",
       "Name: count, dtype: int64"
      ]
     },
     "execution_count": 11,
     "metadata": {},
     "output_type": "execute_result"
    }
   ],
   "execution_count": 11
  },
  {
   "cell_type": "code",
   "id": "2bad1de2ffcce1bc",
   "metadata": {
    "collapsed": false,
    "ExecuteTime": {
     "end_time": "2025-05-04T04:18:16.855121Z",
     "start_time": "2025-05-04T04:18:16.840531Z"
    }
   },
   "source": [
    "# Select 10000 equally distributed samples from the testing set\n",
    "s0 = sensor_test[sensor_test['target'] == 0].sample(10000)\n",
    "s1 = sensor_test[sensor_test['target'] == 1].sample(10000)\n",
    "\n",
    "sampled_sensor_data = pd.concat([s0, s1])\n",
    "sampled_network_data = network_test.loc[sampled_sensor_data.index]\n",
    "\n",
    "sampled_sensor_data = sampled_sensor_data.reset_index(drop=True)\n",
    "sampled_network_data = sampled_network_data.reset_index(drop=True)\n",
    "\n",
    "print(sampled_sensor_data['target'].value_counts())\n",
    "print(sampled_network_data['target'].value_counts())"
   ],
   "outputs": [
    {
     "name": "stdout",
     "output_type": "stream",
     "text": [
      "target\n",
      "0    10000\n",
      "1    10000\n",
      "Name: count, dtype: int64\n",
      "target\n",
      "0    10000\n",
      "1    10000\n",
      "Name: count, dtype: int64\n"
     ]
    }
   ],
   "execution_count": 12
  },
  {
   "cell_type": "code",
   "id": "4504e2d222da9492",
   "metadata": {
    "collapsed": false,
    "ExecuteTime": {
     "end_time": "2025-05-04T04:18:17.251468Z",
     "start_time": "2025-05-04T04:18:16.887376Z"
    }
   },
   "source": [
    "# Use Client 1 as an example\n",
    "client_1_model = joblib.load(rf_filename)\n",
    "\n",
    "test_X = sampled_sensor_data.iloc[:, :-1]\n",
    "test_y = sampled_sensor_data.iloc[:, -1]\n",
    "\n",
    "client_1_predict = client_1_model.predict(test_X)\n",
    "\n",
    "helper.get_metrics(test_y, client_1_predict, printout=True)"
   ],
   "outputs": [
    {
     "name": "stdout",
     "output_type": "stream",
     "text": [
      "*******************\n",
      "Accuracy : 0.909100\n",
      "Precision: 0.909585\n",
      "Recall   : 0.909100\n",
      "F1 Score : 0.909073\n",
      "*******************\n",
      "\n"
     ]
    },
    {
     "data": {
      "text/plain": [
       "(0.9091, 0.9095846861341838, 0.9091, 0.9090731001859589)"
      ]
     },
     "execution_count": 13,
     "metadata": {},
     "output_type": "execute_result"
    }
   ],
   "execution_count": 13
  },
  {
   "cell_type": "code",
   "id": "72bb326cbe0f4db9",
   "metadata": {
    "collapsed": false,
    "ExecuteTime": {
     "end_time": "2025-05-04T04:18:17.282796Z",
     "start_time": "2025-05-04T04:18:17.272468Z"
    }
   },
   "source": [
    "client_1_predict_df = pd.DataFrame(client_1_predict, columns=['Pred'])\n",
    "client_1_predict_df['Pred'].value_counts()"
   ],
   "outputs": [
    {
     "data": {
      "text/plain": [
       "Pred\n",
       "0    10344\n",
       "1     9656\n",
       "Name: count, dtype: int64"
      ]
     },
     "execution_count": 14,
     "metadata": {},
     "output_type": "execute_result"
    }
   ],
   "execution_count": 14
  },
  {
   "cell_type": "code",
   "id": "d25bb69840b319dd",
   "metadata": {
    "collapsed": false,
    "ExecuteTime": {
     "end_time": "2025-05-04T04:18:17.360986Z",
     "start_time": "2025-05-04T04:18:17.346987Z"
    }
   },
   "source": [
    "# Client 1 will test the sensor data locally, only those that pass will be sent to the server\n",
    "# Drop false data, target = 1\n",
    "rows_to_keep = client_1_predict_df['Pred'] == 0\n",
    "filtered_sensor_data = sampled_sensor_data[rows_to_keep]\n",
    "filtered_network_data = sampled_network_data[rows_to_keep]\n",
    "\n",
    "print(filtered_sensor_data['target'].value_counts())\n",
    "print(filtered_network_data['target'].value_counts())"
   ],
   "outputs": [
    {
     "name": "stdout",
     "output_type": "stream",
     "text": [
      "target\n",
      "0    9263\n",
      "1    1081\n",
      "Name: count, dtype: int64\n",
      "target\n",
      "0    9263\n",
      "1    1081\n",
      "Name: count, dtype: int64\n"
     ]
    }
   ],
   "execution_count": 15
  },
  {
   "cell_type": "code",
   "id": "c8a12fb55cc40f84",
   "metadata": {
    "collapsed": false,
    "ExecuteTime": {
     "end_time": "2025-05-04T04:18:22.127452Z",
     "start_time": "2025-05-04T04:18:17.403802Z"
    }
   },
   "source": [
    "# Test Client 1 data using all models\n",
    "new_models_predictions, new_models_metrics = algorithm.get_predictions_and_metrics(\n",
    "    local_models=sensor_models,\n",
    "    sensor_test=filtered_sensor_data,\n",
    "    global_model=network_model,\n",
    "    network_test=filtered_network_data,\n",
    "    roc=False\n",
    ")"
   ],
   "outputs": [
    {
     "name": "stdout",
     "output_type": "stream",
     "text": [
      "\n",
      "Client 1 Prediction Results:\n",
      "*******************\n",
      "Accuracy : 0.895495\n",
      "Precision: 0.801911\n",
      "Recall   : 0.895495\n",
      "F1 Score : 0.846123\n",
      "*******************\n",
      "\n",
      "\n",
      "Client 2 Prediction Results:\n",
      "*******************\n",
      "Accuracy : 0.849381\n",
      "Precision: 0.814884\n",
      "Recall   : 0.849381\n",
      "F1 Score : 0.830957\n",
      "*******************\n",
      "\n",
      "\n",
      "Client 3 Prediction Results:\n",
      "*******************\n",
      "Accuracy : 0.767595\n",
      "Precision: 0.839911\n",
      "Recall   : 0.767595\n",
      "F1 Score : 0.798144\n",
      "*******************\n",
      "\n",
      "\n",
      "Server Prediction Results:\n",
      "*******************\n",
      "Accuracy : 0.972448\n",
      "Precision: 0.974675\n",
      "Recall   : 0.972448\n",
      "F1 Score : 0.973176\n",
      "*******************\n",
      "\n"
     ]
    }
   ],
   "execution_count": 16
  },
  {
   "cell_type": "code",
   "id": "edac08ba9789d9e8",
   "metadata": {
    "collapsed": false,
    "ExecuteTime": {
     "end_time": "2025-05-04T04:18:22.144034Z",
     "start_time": "2025-05-04T04:18:22.131461Z"
    }
   },
   "source": [
    "# Load Client 1 network testing set\n",
    "new_y_test = filtered_network_data.iloc[:, -1]"
   ],
   "outputs": [],
   "execution_count": 17
  },
  {
   "cell_type": "code",
   "id": "e5c0badd8391a815",
   "metadata": {
    "collapsed": false,
    "ExecuteTime": {
     "end_time": "2025-05-04T04:18:22.191033Z",
     "start_time": "2025-05-04T04:18:22.176534Z"
    }
   },
   "source": [
    "print(f\"Client 1 Aggregate Prediction by Weighted Score:\")\n",
    "start_time = time.time()\n",
    "\n",
    "new_score = algorithm.aggregate_predict_by_score(\n",
    "    models_predictions=new_models_predictions,\n",
    "    models_metrics=new_models_metrics,\n",
    "    models_weights=model_weights)\n",
    "\n",
    "end_time = time.time()\n",
    "rows = len(new_models_predictions[0])\n",
    "time_spend = end_time - start_time\n",
    "\n",
    "helper.get_metrics(new_y_test, new_score, printout=True)\n",
    "print(f\"Time spent predicting {rows} samples: {time_spend:.4f}s, average time spent: {time_spend / rows:.4f}s.\")"
   ],
   "outputs": [
    {
     "name": "stdout",
     "output_type": "stream",
     "text": [
      "Client 1 Aggregate Prediction by Weighted Score:\n",
      "*******************\n",
      "Accuracy : 0.928074\n",
      "Precision: 0.925984\n",
      "Recall   : 0.928074\n",
      "F1 Score : 0.913639\n",
      "*******************\n",
      "\n",
      "Time spent predicting 10344 samples: 0.0010s, average time spent: 0.0000s.\n"
     ]
    }
   ],
   "execution_count": 18
  },
  {
   "cell_type": "code",
   "id": "614350c626a4118",
   "metadata": {
    "collapsed": false,
    "ExecuteTime": {
     "end_time": "2025-05-04T04:18:22.253769Z",
     "start_time": "2025-05-04T04:18:22.225105Z"
    }
   },
   "source": [
    "print(f\"Client 1 Aggregate Prediction by Majority Voting:\")\n",
    "start_time = time.time()\n",
    "\n",
    "new_vote = algorithm.aggregate_predict_by_vote(models_predictions=new_models_predictions)\n",
    "\n",
    "end_time = time.time()\n",
    "time_spend = end_time - start_time\n",
    "\n",
    "helper.get_metrics(new_y_test, new_vote, printout=True)\n",
    "print(f\"Time spent predicting {rows} samples: {time_spend:.4f}s, average time spent: {time_spend / rows:.4f}s.\")"
   ],
   "outputs": [
    {
     "name": "stdout",
     "output_type": "stream",
     "text": [
      "Client 1 Aggregate Prediction by Majority Voting:\n",
      "*******************\n",
      "Accuracy : 0.955530\n",
      "Precision: 0.964695\n",
      "Recall   : 0.955530\n",
      "F1 Score : 0.958161\n",
      "*******************\n",
      "\n",
      "Time spent predicting 10344 samples: 0.0060s, average time spent: 0.0000s.\n"
     ]
    }
   ],
   "execution_count": 19
  }
 ],
 "metadata": {
  "kernelspec": {
   "display_name": "Python 3 (ipykernel)",
   "language": "python",
   "name": "python3"
  },
  "language_info": {
   "codemirror_mode": {
    "name": "ipython",
    "version": 3
   },
   "file_extension": ".py",
   "mimetype": "text/x-python",
   "name": "python",
   "nbconvert_exporter": "python",
   "pygments_lexer": "ipython3",
   "version": "3.10.11"
  }
 },
 "nbformat": 4,
 "nbformat_minor": 5
}
